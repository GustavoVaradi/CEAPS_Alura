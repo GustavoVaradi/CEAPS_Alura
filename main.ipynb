{
 "cells": [
  {
   "cell_type": "code",
   "execution_count": 23,
   "id": "eae53392-1e72-4dc7-8f42-d9db229a4ef8",
   "metadata": {},
   "outputs": [],
   "source": [
    "import pandas as pd\n",
    "import os"
   ]
  },
  {
   "cell_type": "code",
   "execution_count": 24,
   "id": "cb8653ce-f005-4797-b235-b79365346d01",
   "metadata": {},
   "outputs": [],
   "source": [
    "csv_files = os.listdir('database')\n",
    "dfs = []\n",
    "for file in csv_files:\n",
    "    file_path = os.path.join('database/', file)\n",
    "    df = pd.read_csv(file_path, encoding='latin1', sep=';', skiprows=1)\n",
    "    dfs.append(df)\n",
    "\n",
    "data = pd.concat(dfs, ignore_index=True)\n",
    "#    df = pd.read_csv(file_path, encoding='latin1', sep=';', skiprows=1, decimal=',')\n"
   ]
  },
  {
   "cell_type": "code",
   "execution_count": 25,
   "id": "6a013367-c70f-4edd-be3d-fd2807e233a6",
   "metadata": {},
   "outputs": [
    {
     "data": {
      "text/html": [
       "<div>\n",
       "<style scoped>\n",
       "    .dataframe tbody tr th:only-of-type {\n",
       "        vertical-align: middle;\n",
       "    }\n",
       "\n",
       "    .dataframe tbody tr th {\n",
       "        vertical-align: top;\n",
       "    }\n",
       "\n",
       "    .dataframe thead th {\n",
       "        text-align: right;\n",
       "    }\n",
       "</style>\n",
       "<table border=\"1\" class=\"dataframe\">\n",
       "  <thead>\n",
       "    <tr style=\"text-align: right;\">\n",
       "      <th></th>\n",
       "      <th>ANO</th>\n",
       "      <th>MES</th>\n",
       "      <th>SENADOR</th>\n",
       "      <th>TIPO_DESPESA</th>\n",
       "      <th>CNPJ_CPF</th>\n",
       "      <th>FORNECEDOR</th>\n",
       "      <th>DOCUMENTO</th>\n",
       "      <th>DATA</th>\n",
       "      <th>DETALHAMENTO</th>\n",
       "      <th>VALOR_REEMBOLSADO</th>\n",
       "      <th>COD_DOCUMENTO</th>\n",
       "    </tr>\n",
       "  </thead>\n",
       "  <tbody>\n",
       "    <tr>\n",
       "      <th>0</th>\n",
       "      <td>2008</td>\n",
       "      <td>9</td>\n",
       "      <td>ADA MELLO</td>\n",
       "      <td>Contratação de consultorias, assessorias, pesq...</td>\n",
       "      <td>NaN</td>\n",
       "      <td>NaN</td>\n",
       "      <td>NaN</td>\n",
       "      <td>NaN</td>\n",
       "      <td>NaN</td>\n",
       "      <td>12351,52</td>\n",
       "      <td>2.008091e+12</td>\n",
       "    </tr>\n",
       "    <tr>\n",
       "      <th>1</th>\n",
       "      <td>2008</td>\n",
       "      <td>9</td>\n",
       "      <td>ADA MELLO</td>\n",
       "      <td>Locomoção, hospedagem, alimentação, combustíve...</td>\n",
       "      <td>NaN</td>\n",
       "      <td>NaN</td>\n",
       "      <td>NaN</td>\n",
       "      <td>NaN</td>\n",
       "      <td>NaN</td>\n",
       "      <td>386,6</td>\n",
       "      <td>2.008091e+12</td>\n",
       "    </tr>\n",
       "    <tr>\n",
       "      <th>2</th>\n",
       "      <td>2008</td>\n",
       "      <td>10</td>\n",
       "      <td>ADA MELLO</td>\n",
       "      <td>Contratação de consultorias, assessorias, pesq...</td>\n",
       "      <td>NaN</td>\n",
       "      <td>NaN</td>\n",
       "      <td>NaN</td>\n",
       "      <td>NaN</td>\n",
       "      <td>NaN</td>\n",
       "      <td>12351,52</td>\n",
       "      <td>2.008101e+12</td>\n",
       "    </tr>\n",
       "    <tr>\n",
       "      <th>3</th>\n",
       "      <td>2008</td>\n",
       "      <td>10</td>\n",
       "      <td>ADA MELLO</td>\n",
       "      <td>Locomoção, hospedagem, alimentação, combustíve...</td>\n",
       "      <td>NaN</td>\n",
       "      <td>NaN</td>\n",
       "      <td>NaN</td>\n",
       "      <td>NaN</td>\n",
       "      <td>NaN</td>\n",
       "      <td>2610,68</td>\n",
       "      <td>2.008101e+12</td>\n",
       "    </tr>\n",
       "    <tr>\n",
       "      <th>4</th>\n",
       "      <td>2008</td>\n",
       "      <td>11</td>\n",
       "      <td>ADA MELLO</td>\n",
       "      <td>Contratação de consultorias, assessorias, pesq...</td>\n",
       "      <td>NaN</td>\n",
       "      <td>NaN</td>\n",
       "      <td>NaN</td>\n",
       "      <td>NaN</td>\n",
       "      <td>NaN</td>\n",
       "      <td>12351,52</td>\n",
       "      <td>2.008111e+12</td>\n",
       "    </tr>\n",
       "  </tbody>\n",
       "</table>\n",
       "</div>"
      ],
      "text/plain": [
       "    ANO  MES    SENADOR                                       TIPO_DESPESA  \\\n",
       "0  2008    9  ADA MELLO  Contratação de consultorias, assessorias, pesq...   \n",
       "1  2008    9  ADA MELLO  Locomoção, hospedagem, alimentação, combustíve...   \n",
       "2  2008   10  ADA MELLO  Contratação de consultorias, assessorias, pesq...   \n",
       "3  2008   10  ADA MELLO  Locomoção, hospedagem, alimentação, combustíve...   \n",
       "4  2008   11  ADA MELLO  Contratação de consultorias, assessorias, pesq...   \n",
       "\n",
       "  CNPJ_CPF FORNECEDOR DOCUMENTO DATA DETALHAMENTO VALOR_REEMBOLSADO  \\\n",
       "0      NaN        NaN       NaN  NaN          NaN          12351,52   \n",
       "1      NaN        NaN       NaN  NaN          NaN             386,6   \n",
       "2      NaN        NaN       NaN  NaN          NaN          12351,52   \n",
       "3      NaN        NaN       NaN  NaN          NaN           2610,68   \n",
       "4      NaN        NaN       NaN  NaN          NaN          12351,52   \n",
       "\n",
       "   COD_DOCUMENTO  \n",
       "0   2.008091e+12  \n",
       "1   2.008091e+12  \n",
       "2   2.008101e+12  \n",
       "3   2.008101e+12  \n",
       "4   2.008111e+12  "
      ]
     },
     "execution_count": 25,
     "metadata": {},
     "output_type": "execute_result"
    }
   ],
   "source": [
    "data.head()"
   ]
  },
  {
   "cell_type": "code",
   "execution_count": 26,
   "id": "a950daae-5364-401f-bea0-2440eb70bc30",
   "metadata": {},
   "outputs": [
    {
     "name": "stdout",
     "output_type": "stream",
     "text": [
      "<class 'pandas.core.frame.DataFrame'>\n",
      "RangeIndex: 317963 entries, 0 to 317962\n",
      "Data columns (total 11 columns):\n",
      " #   Column             Non-Null Count   Dtype  \n",
      "---  ------             --------------   -----  \n",
      " 0   ANO                317963 non-null  int64  \n",
      " 1   MES                317963 non-null  int64  \n",
      " 2   SENADOR            317963 non-null  object \n",
      " 3   TIPO_DESPESA       317963 non-null  object \n",
      " 4   CNPJ_CPF           314819 non-null  object \n",
      " 5   FORNECEDOR         314819 non-null  object \n",
      " 6   DOCUMENTO          293153 non-null  object \n",
      " 7   DATA               314819 non-null  object \n",
      " 8   DETALHAMENTO       180631 non-null  object \n",
      " 9   VALOR_REEMBOLSADO  317963 non-null  object \n",
      " 10  COD_DOCUMENTO      317961 non-null  float64\n",
      "dtypes: float64(1), int64(2), object(8)\n",
      "memory usage: 26.7+ MB\n"
     ]
    }
   ],
   "source": [
    "data.info()"
   ]
  },
  {
   "cell_type": "code",
   "execution_count": 27,
   "id": "c7d78c10-a5e8-4d93-8a67-50389c6c8260",
   "metadata": {},
   "outputs": [
    {
     "data": {
      "text/plain": [
       "Index                     132\n",
       "ANO                   2543704\n",
       "MES                   2543704\n",
       "COD_DOCUMENTO         2543704\n",
       "DOCUMENTO            19575056\n",
       "VALOR_REEMBOLSADO    19663920\n",
       "DATA                 21193821\n",
       "CNPJ_CPF             23681521\n",
       "SENADOR              25264126\n",
       "FORNECEDOR           29119901\n",
       "DETALHAMENTO         36417929\n",
       "TIPO_DESPESA         50407038\n",
       "dtype: int64"
      ]
     },
     "execution_count": 27,
     "metadata": {},
     "output_type": "execute_result"
    }
   ],
   "source": [
    "data.memory_usage(deep=True).sort_values()"
   ]
  },
  {
   "cell_type": "code",
   "execution_count": 28,
   "id": "1b054f5d-a868-490f-942b-274ee486f8b8",
   "metadata": {},
   "outputs": [
    {
     "data": {
      "text/html": [
       "<div>\n",
       "<style scoped>\n",
       "    .dataframe tbody tr th:only-of-type {\n",
       "        vertical-align: middle;\n",
       "    }\n",
       "\n",
       "    .dataframe tbody tr th {\n",
       "        vertical-align: top;\n",
       "    }\n",
       "\n",
       "    .dataframe thead th {\n",
       "        text-align: right;\n",
       "    }\n",
       "</style>\n",
       "<table border=\"1\" class=\"dataframe\">\n",
       "  <thead>\n",
       "    <tr style=\"text-align: right;\">\n",
       "      <th></th>\n",
       "      <th>count</th>\n",
       "      <th>mean</th>\n",
       "      <th>std</th>\n",
       "      <th>min</th>\n",
       "      <th>25%</th>\n",
       "      <th>50%</th>\n",
       "      <th>75%</th>\n",
       "      <th>max</th>\n",
       "    </tr>\n",
       "  </thead>\n",
       "  <tbody>\n",
       "    <tr>\n",
       "      <th>ANO</th>\n",
       "      <td>317963.0</td>\n",
       "      <td>2.015154e+03</td>\n",
       "      <td>3.746778e+00</td>\n",
       "      <td>2008.0</td>\n",
       "      <td>2012.0</td>\n",
       "      <td>2015.0</td>\n",
       "      <td>2018.0</td>\n",
       "      <td>2.022000e+03</td>\n",
       "    </tr>\n",
       "    <tr>\n",
       "      <th>MES</th>\n",
       "      <td>317963.0</td>\n",
       "      <td>6.644276e+00</td>\n",
       "      <td>3.308155e+00</td>\n",
       "      <td>1.0</td>\n",
       "      <td>4.0</td>\n",
       "      <td>7.0</td>\n",
       "      <td>10.0</td>\n",
       "      <td>1.200000e+01</td>\n",
       "    </tr>\n",
       "    <tr>\n",
       "      <th>COD_DOCUMENTO</th>\n",
       "      <td>317961.0</td>\n",
       "      <td>1.985928e+10</td>\n",
       "      <td>1.987107e+11</td>\n",
       "      <td>143880.0</td>\n",
       "      <td>621197.0</td>\n",
       "      <td>2019630.0</td>\n",
       "      <td>2106125.0</td>\n",
       "      <td>2.009031e+12</td>\n",
       "    </tr>\n",
       "  </tbody>\n",
       "</table>\n",
       "</div>"
      ],
      "text/plain": [
       "                  count          mean           std       min       25%  \\\n",
       "ANO            317963.0  2.015154e+03  3.746778e+00    2008.0    2012.0   \n",
       "MES            317963.0  6.644276e+00  3.308155e+00       1.0       4.0   \n",
       "COD_DOCUMENTO  317961.0  1.985928e+10  1.987107e+11  143880.0  621197.0   \n",
       "\n",
       "                     50%        75%           max  \n",
       "ANO               2015.0     2018.0  2.022000e+03  \n",
       "MES                  7.0       10.0  1.200000e+01  \n",
       "COD_DOCUMENTO  2019630.0  2106125.0  2.009031e+12  "
      ]
     },
     "execution_count": 28,
     "metadata": {},
     "output_type": "execute_result"
    }
   ],
   "source": [
    "data.describe().T"
   ]
  },
  {
   "cell_type": "markdown",
   "id": "82469257-9d34-4d51-8259-6b63c07a502f",
   "metadata": {},
   "source": [
    "## Removendo duplicatas e observações irrelevantes"
   ]
  },
  {
   "cell_type": "code",
   "execution_count": 29,
   "id": "cd288c11-aa59-4738-881a-8c6582feea67",
   "metadata": {},
   "outputs": [],
   "source": [
    "data.drop_duplicates(inplace=True)"
   ]
  },
  {
   "cell_type": "code",
   "execution_count": 30,
   "id": "db45c4ab-584e-4862-bb81-1caaed6d997d",
   "metadata": {},
   "outputs": [],
   "source": [
    "# sem útilidade ja que tem o _TIPO_DESPESA_ e tem muitos valores nulos\n",
    "data.drop(columns='DETALHAMENTO', inplace=True)"
   ]
  },
  {
   "cell_type": "code",
   "execution_count": 31,
   "id": "37632c28-faa1-41f2-b612-f9a67bb05d32",
   "metadata": {},
   "outputs": [],
   "source": [
    "# sem utilidade para os dados\n",
    "data.drop(columns='DOCUMENTO', inplace=True)"
   ]
  },
  {
   "cell_type": "code",
   "execution_count": 32,
   "id": "54252c5c-6548-4565-8d92-a799ef4838a2",
   "metadata": {},
   "outputs": [],
   "source": [
    "# 2 valores nulos que eram irrelevantes comparado a totalidade dos dados\n",
    "data.drop(columns = 'COD_DOCUMENTO',inplace=True)"
   ]
  },
  {
   "cell_type": "markdown",
   "id": "b4abc195-b318-4934-b63a-fb6ff2c1724d",
   "metadata": {},
   "source": [
    "## Fix Structural Errors"
   ]
  },
  {
   "cell_type": "code",
   "execution_count": 33,
   "id": "c6efdbe4-8ef9-46ee-bbe0-26a3b87b9a12",
   "metadata": {},
   "outputs": [],
   "source": [
    "# Transformando coluna VALOR_REEMBOLSADO em float\n",
    "data['VALOR_REEMBOLSADO'] = data['VALOR_REEMBOLSADO'].str.replace(',', '.').str.replace('\\r\\n', '', regex=True)\n",
    "data['VALOR_REEMBOLSADO'] = data['VALOR_REEMBOLSADO'].astype(float)\n",
    "data['VALOR_REEMBOLSADO'].dtype"
   ]
  },
  {
   "cell_type": "code",
   "execution_count": 35,
   "id": "9d7b3a98-95c8-4c5e-89d7-2782b2e456ed",
   "metadata": {},
   "outputs": [
    {
     "data": {
      "text/html": [
       "<div>\n",
       "<style scoped>\n",
       "    .dataframe tbody tr th:only-of-type {\n",
       "        vertical-align: middle;\n",
       "    }\n",
       "\n",
       "    .dataframe tbody tr th {\n",
       "        vertical-align: top;\n",
       "    }\n",
       "\n",
       "    .dataframe thead th {\n",
       "        text-align: right;\n",
       "    }\n",
       "</style>\n",
       "<table border=\"1\" class=\"dataframe\">\n",
       "  <thead>\n",
       "    <tr style=\"text-align: right;\">\n",
       "      <th></th>\n",
       "      <th>count</th>\n",
       "      <th>mean</th>\n",
       "      <th>std</th>\n",
       "      <th>min</th>\n",
       "      <th>25%</th>\n",
       "      <th>50%</th>\n",
       "      <th>75%</th>\n",
       "      <th>max</th>\n",
       "    </tr>\n",
       "  </thead>\n",
       "  <tbody>\n",
       "    <tr>\n",
       "      <th>ANO</th>\n",
       "      <td>317963.0</td>\n",
       "      <td>2015.153914</td>\n",
       "      <td>3.746778</td>\n",
       "      <td>2008.0</td>\n",
       "      <td>2012.0</td>\n",
       "      <td>2015.0</td>\n",
       "      <td>2018.0</td>\n",
       "      <td>2022.0</td>\n",
       "    </tr>\n",
       "    <tr>\n",
       "      <th>MES</th>\n",
       "      <td>317963.0</td>\n",
       "      <td>6.644276</td>\n",
       "      <td>3.308155</td>\n",
       "      <td>1.0</td>\n",
       "      <td>4.0</td>\n",
       "      <td>7.0</td>\n",
       "      <td>10.0</td>\n",
       "      <td>12.0</td>\n",
       "    </tr>\n",
       "    <tr>\n",
       "      <th>VALOR_REEMBOLSADO</th>\n",
       "      <td>317963.0</td>\n",
       "      <td>1031.730442</td>\n",
       "      <td>5682.034203</td>\n",
       "      <td>-1500.0</td>\n",
       "      <td>100.0</td>\n",
       "      <td>283.5</td>\n",
       "      <td>1000.0</td>\n",
       "      <td>2016557.0</td>\n",
       "    </tr>\n",
       "  </tbody>\n",
       "</table>\n",
       "</div>"
      ],
      "text/plain": [
       "                      count         mean          std     min     25%     50%  \\\n",
       "ANO                317963.0  2015.153914     3.746778  2008.0  2012.0  2015.0   \n",
       "MES                317963.0     6.644276     3.308155     1.0     4.0     7.0   \n",
       "VALOR_REEMBOLSADO  317963.0  1031.730442  5682.034203 -1500.0   100.0   283.5   \n",
       "\n",
       "                      75%        max  \n",
       "ANO                2018.0     2022.0  \n",
       "MES                  10.0       12.0  \n",
       "VALOR_REEMBOLSADO  1000.0  2016557.0  "
      ]
     },
     "execution_count": 35,
     "metadata": {},
     "output_type": "execute_result"
    }
   ],
   "source": [
    "data.describe().T"
   ]
  },
  {
   "cell_type": "code",
   "execution_count": 46,
   "id": "3ca756ea-ede8-4d63-b1fb-ed0549b2fac0",
   "metadata": {},
   "outputs": [],
   "source": [
    "# removendo dados negativos\n",
    "data = data[data['VALOR_REEMBOLSADO'] >= 0]"
   ]
  },
  {
   "cell_type": "code",
   "execution_count": 36,
   "id": "c5c7c3be-9372-4518-a47d-cbf99a4e5225",
   "metadata": {},
   "outputs": [
    {
     "data": {
      "text/plain": [
       "ANO                  0.000000\n",
       "MES                  0.000000\n",
       "SENADOR              0.000000\n",
       "TIPO_DESPESA         0.000000\n",
       "CNPJ_CPF             0.988794\n",
       "FORNECEDOR           0.988794\n",
       "DATA                 0.988794\n",
       "VALOR_REEMBOLSADO    0.000000\n",
       "dtype: float64"
      ]
     },
     "execution_count": 36,
     "metadata": {},
     "output_type": "execute_result"
    }
   ],
   "source": [
    "# Verificando a relevancia dos dados nulos comparado com o total dos dados\n",
    "data.isnull().sum() / data.shape[0] * 100"
   ]
  },
  {
   "cell_type": "code",
   "execution_count": 37,
   "id": "5cc59442-5425-4b24-be6b-55d6a5ebb302",
   "metadata": {},
   "outputs": [
    {
     "data": {
      "text/plain": [
       "ANO                     0\n",
       "MES                     0\n",
       "SENADOR                 0\n",
       "TIPO_DESPESA            0\n",
       "CNPJ_CPF             3144\n",
       "FORNECEDOR           3144\n",
       "DATA                 3144\n",
       "VALOR_REEMBOLSADO       0\n",
       "dtype: int64"
      ]
     },
     "execution_count": 37,
     "metadata": {},
     "output_type": "execute_result"
    }
   ],
   "source": [
    "# Quantidade total de valores nulos\n",
    "data.isnull().sum()"
   ]
  },
  {
   "cell_type": "code",
   "execution_count": 38,
   "id": "726bc86f-d38d-466b-8ce0-127f9408a9a1",
   "metadata": {},
   "outputs": [
    {
     "data": {
      "text/plain": [
       "array([ True])"
      ]
     },
     "execution_count": 38,
     "metadata": {},
     "output_type": "execute_result"
    }
   ],
   "source": [
    "# Verificando se as colunas nulas estão ligadas\n",
    "null_pattern_match = (data['CNPJ_CPF'].isnull() == data['FORNECEDOR'].isnull()) & (data['CNPJ_CPF'].isnull() == data['DATA'].isnull())\n",
    "null_pattern_match.unique()"
   ]
  },
  {
   "cell_type": "code",
   "execution_count": 40,
   "id": "8a2d5af0-445f-438c-a433-3637c45286fd",
   "metadata": {},
   "outputs": [
    {
     "name": "stdout",
     "output_type": "stream",
     "text": [
      "cnpj_cpf = 4.38%\n",
      "fornecedor = 4.58%\n",
      "data = 4.58%\n"
     ]
    }
   ],
   "source": [
    "# Verificando a relevancia dos dados nulos de cada coluna comparado com o total dos dados\n",
    "percentual_nulos_cnpj_cpf = data[data['CNPJ_CPF'].isnull()]['VALOR_REEMBOLSADO'].sum() / data[~data['VALOR_REEMBOLSADO'].isnull()]['VALOR_REEMBOLSADO'].sum() * 100\n",
    "percentual_nulos_fornecedor = data[data['FORNECEDOR'].isnull()]['VALOR_REEMBOLSADO'].sum() / data[~data['FORNECEDOR'].isnull()]['VALOR_REEMBOLSADO'].sum() * 100\n",
    "percentual_nulos_data = data[data['DATA'].isnull()]['VALOR_REEMBOLSADO'].sum() / data[~data['DATA'].isnull()]['VALOR_REEMBOLSADO'].sum() * 100\n",
    "\n",
    "print(f'cnpj_cpf = {percentual_nulos_cnpj_cpf :.2f}%\\nfornecedor = {percentual_nulos_fornecedor:.2f}%\\ndata = {percentual_nulos_data:.2f}%')"
   ]
  },
  {
   "cell_type": "code",
   "execution_count": 41,
   "id": "1c522224-12cc-48a9-9432-dda112bb6a9e",
   "metadata": {},
   "outputs": [],
   "source": [
    "# Conforme analisado, é a relacao entres os valores nulos e nao nulos é muito baixa.\n",
    "data.dropna(subset =['CNPJ_CPF', 'FORNECEDOR', 'DATA'], inplace=True)"
   ]
  },
  {
   "cell_type": "code",
   "execution_count": 42,
   "id": "a842e320-fc0b-4364-9e03-868bb35aca82",
   "metadata": {},
   "outputs": [
    {
     "data": {
      "text/plain": [
       "ANO                  0\n",
       "MES                  0\n",
       "SENADOR              0\n",
       "TIPO_DESPESA         0\n",
       "CNPJ_CPF             0\n",
       "FORNECEDOR           0\n",
       "DATA                 0\n",
       "VALOR_REEMBOLSADO    0\n",
       "dtype: int64"
      ]
     },
     "execution_count": 42,
     "metadata": {},
     "output_type": "execute_result"
    }
   ],
   "source": [
    "data.isnull().sum()"
   ]
  },
  {
   "cell_type": "code",
   "execution_count": 51,
   "id": "f8ede37a-5af4-48de-95c1-137faee18547",
   "metadata": {},
   "outputs": [
    {
     "name": "stdout",
     "output_type": "stream",
     "text": [
      "<class 'pandas.core.frame.DataFrame'>\n",
      "Index: 314816 entries, 2449 to 317962\n",
      "Data columns (total 8 columns):\n",
      " #   Column             Non-Null Count   Dtype  \n",
      "---  ------             --------------   -----  \n",
      " 0   ANO                314816 non-null  int64  \n",
      " 1   MES                314816 non-null  int64  \n",
      " 2   SENADOR            314816 non-null  object \n",
      " 3   TIPO_DESPESA       314816 non-null  object \n",
      " 4   CNPJ_CPF           314816 non-null  object \n",
      " 5   FORNECEDOR         314816 non-null  object \n",
      " 6   DATA               314816 non-null  object \n",
      " 7   VALOR_REEMBOLSADO  314816 non-null  float64\n",
      "dtypes: float64(1), int64(2), object(5)\n",
      "memory usage: 21.6+ MB\n"
     ]
    }
   ],
   "source": [
    "data.info()"
   ]
  },
  {
   "cell_type": "code",
   "execution_count": 52,
   "id": "8c7e1ba1-1f8b-4108-b6c8-41be5c42ca16",
   "metadata": {},
   "outputs": [
    {
     "data": {
      "text/plain": [
       "(314816, 8)"
      ]
     },
     "execution_count": 52,
     "metadata": {},
     "output_type": "execute_result"
    }
   ],
   "source": [
    "data.shape"
   ]
  },
  {
   "cell_type": "code",
   "execution_count": null,
   "id": "9ce9f48f-fca2-4956-b39b-608a6b9234ed",
   "metadata": {},
   "outputs": [],
   "source": []
  }
 ],
 "metadata": {
  "kernelspec": {
   "display_name": "Python 3 (ipykernel)",
   "language": "python",
   "name": "python3"
  },
  "language_info": {
   "codemirror_mode": {
    "name": "ipython",
    "version": 3
   },
   "file_extension": ".py",
   "mimetype": "text/x-python",
   "name": "python",
   "nbconvert_exporter": "python",
   "pygments_lexer": "ipython3",
   "version": "3.11.7"
  }
 },
 "nbformat": 4,
 "nbformat_minor": 5
}
